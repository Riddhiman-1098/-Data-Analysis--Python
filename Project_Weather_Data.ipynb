{
  "nbformat": 4,
  "nbformat_minor": 0,
  "metadata": {
    "colab": {
      "provenance": [],
      "authorship_tag": "ABX9TyOsTmxmjT6oBtSe7YFCet+G",
      "include_colab_link": true
    },
    "kernelspec": {
      "name": "python3",
      "display_name": "Python 3"
    },
    "language_info": {
      "name": "python"
    }
  },
  "cells": [
    {
      "cell_type": "markdown",
      "metadata": {
        "id": "view-in-github",
        "colab_type": "text"
      },
      "source": [
        "<a href=\"https://colab.research.google.com/github/Riddhiman-1098/-Data-Analysis--Python/blob/main/Project_Weather_Data.ipynb\" target=\"_parent\"><img src=\"https://colab.research.google.com/assets/colab-badge.svg\" alt=\"Open In Colab\"/></a>"
      ]
    },
    {
      "cell_type": "code",
      "source": [
        "import pandas as pd\n",
        "import requests\n",
        "from io import StringIO\n",
        "import matplotlib.pyplot as plt"
      ],
      "metadata": {
        "id": "hb-aRO7lO50x"
      },
      "execution_count": 7,
      "outputs": []
    },
    {
      "cell_type": "code",
      "execution_count": 8,
      "metadata": {
        "id": "jTeMRooHm0FJ"
      },
      "outputs": [],
      "source": [
        "\n",
        "url='https://drive.google.com/file/d/1lBowvJbK5lIZntCs_-sMElyO3JJQWNHk/view?usp=drive_link'\n",
        "\n",
        "file_id = url.split('/')[-2]\n",
        "dwn_url='https://drive.google.com/uc?export=download&id=' + file_id\n",
        "url2 = requests.get(dwn_url).text\n",
        "csv_raw = StringIO(url2)\n",
        "df = pd.read_csv(csv_raw)\n",
        "#print(df.head())\n"
      ]
    },
    {
      "cell_type": "code",
      "source": [
        "print(df.head())"
      ],
      "metadata": {
        "colab": {
          "base_uri": "https://localhost:8080/"
        },
        "id": "MJgAo8CJQUsS",
        "outputId": "21f498ec-4c37-47c6-a692-1c5c680315d9"
      },
      "execution_count": 9,
      "outputs": [
        {
          "output_type": "stream",
          "name": "stdout",
          "text": [
            "             Date Time  p (mbar)  T (degC)  Tpot (K)  Tdew (degC)  rh (%)  \\\n",
            "0  01.01.2010 00:10:00    967.56     -2.84    272.89        -3.41    95.8   \n",
            "1  01.01.2010 00:20:00    967.45     -2.85    272.88        -3.43    95.7   \n",
            "2  01.01.2010 00:30:00    967.45     -2.88    272.85        -3.46    95.8   \n",
            "3  01.01.2010 00:40:00    967.34     -2.90    272.84        -3.47    95.8   \n",
            "4  01.01.2010 00:50:00    967.29     -2.96    272.78        -3.53    95.8   \n",
            "\n",
            "   VPmax (mbar)  VPact (mbar)  VPdef (mbar)  sh (g/kg)  ...  wv (m/s)  \\\n",
            "0          4.95          4.75          0.21       3.06  ...      1.61   \n",
            "1          4.95          4.74          0.21       3.05  ...      2.00   \n",
            "2          4.94          4.73          0.21       3.05  ...      2.25   \n",
            "3          4.93          4.72          0.21       3.04  ...      2.64   \n",
            "4          4.91          4.70          0.21       3.03  ...      2.82   \n",
            "\n",
            "   max. wv (m/s)  wd (deg)  rain (mm)  raining (s)  SWDR (W/m�)  \\\n",
            "0           2.76     15.41        0.0            0          0.0   \n",
            "1           3.10     17.04        0.0            0          0.0   \n",
            "2           3.79     25.35        0.0            0          0.0   \n",
            "3           3.77     23.64        0.0          270          0.0   \n",
            "4           4.29     18.94        0.0          310          0.0   \n",
            "\n",
            "   PAR (�mol/m�/s)  max. PAR (�mol/m�/s)  Tlog (degC)  CO2 (ppm)  \n",
            "0              0.0                   0.0         8.59      404.6  \n",
            "1              0.0                   0.0         8.53      404.1  \n",
            "2              0.0                   0.0         8.52      404.3  \n",
            "3              0.0                   0.0         8.54      404.0  \n",
            "4              0.0                   0.0         8.55      401.9  \n",
            "\n",
            "[5 rows x 22 columns]\n"
          ]
        }
      ]
    },
    {
      "cell_type": "code",
      "source": [
        "\n",
        "\n",
        "\n",
        "df['T_(degC)'] = df['T (degC)']\n",
        "\n",
        "\n",
        "print(df.head())\n"
      ],
      "metadata": {
        "colab": {
          "base_uri": "https://localhost:8080/"
        },
        "id": "9iOQkdyZTJx5",
        "outputId": "1b887b5c-41ab-4a11-d247-7999e4ff033d"
      },
      "execution_count": 19,
      "outputs": [
        {
          "output_type": "stream",
          "name": "stdout",
          "text": [
            "             Date Time  p (mbar)  T (degC)  Tpot (K)  Tdew (degC)  rh (%)  \\\n",
            "0  01.01.2010 00:10:00    967.56     -2.84    272.89        -3.41    95.8   \n",
            "1  01.01.2010 00:20:00    967.45     -2.85    272.88        -3.43    95.7   \n",
            "2  01.01.2010 00:30:00    967.45     -2.88    272.85        -3.46    95.8   \n",
            "3  01.01.2010 00:40:00    967.34     -2.90    272.84        -3.47    95.8   \n",
            "4  01.01.2010 00:50:00    967.29     -2.96    272.78        -3.53    95.8   \n",
            "\n",
            "   VPmax (mbar)  VPact (mbar)  VPdef (mbar)  sh (g/kg)  ...  max. wv (m/s)  \\\n",
            "0          4.95          4.75          0.21       3.06  ...           2.76   \n",
            "1          4.95          4.74          0.21       3.05  ...           3.10   \n",
            "2          4.94          4.73          0.21       3.05  ...           3.79   \n",
            "3          4.93          4.72          0.21       3.04  ...           3.77   \n",
            "4          4.91          4.70          0.21       3.03  ...           4.29   \n",
            "\n",
            "   wd (deg)  rain (mm)  raining (s)  SWDR (W/m�)  PAR (�mol/m�/s)  \\\n",
            "0     15.41        0.0            0          0.0              0.0   \n",
            "1     17.04        0.0            0          0.0              0.0   \n",
            "2     25.35        0.0            0          0.0              0.0   \n",
            "3     23.64        0.0          270          0.0              0.0   \n",
            "4     18.94        0.0          310          0.0              0.0   \n",
            "\n",
            "   max. PAR (�mol/m�/s)  Tlog (degC)  CO2 (ppm)  T_(degC)  \n",
            "0                   0.0         8.59      404.6     -2.84  \n",
            "1                   0.0         8.53      404.1     -2.85  \n",
            "2                   0.0         8.52      404.3     -2.88  \n",
            "3                   0.0         8.54      404.0     -2.90  \n",
            "4                   0.0         8.55      401.9     -2.96  \n",
            "\n",
            "[5 rows x 23 columns]\n"
          ]
        }
      ]
    },
    {
      "cell_type": "code",
      "source": [],
      "metadata": {
        "id": "MeGHWBXH-PQI"
      },
      "execution_count": null,
      "outputs": []
    },
    {
      "cell_type": "markdown",
      "source": [
        "**DATA CLEANSING**"
      ],
      "metadata": {
        "id": "QJ4MfGvW-NFX"
      }
    },
    {
      "cell_type": "markdown",
      "source": [
        "**Data Inspection**: Begin by inspecting the dataset to understand its structure, features, and any potential issues. This involves examining the data types of each column, checking for missing values, outliers, and inconsistencies.\n",
        "\n"
      ],
      "metadata": {
        "id": "KI3g_c4g-eOg"
      }
    },
    {
      "cell_type": "code",
      "source": [
        "print(df.head())  # Display the first few rows\n",
        "print(df.info())  # Summary of the DataFrame"
      ],
      "metadata": {
        "colab": {
          "base_uri": "https://localhost:8080/"
        },
        "id": "tzokIJT5-n9B",
        "outputId": "7da2fa60-4582-4cd5-8894-6523829b5c4e"
      },
      "execution_count": 30,
      "outputs": [
        {
          "output_type": "stream",
          "name": "stdout",
          "text": [
            "             Date Time  p (mbar)  T (degC)  Tpot (K)  Tdew (degC)  rh (%)  \\\n",
            "0  01.01.2010 00:10:00    967.56     -2.84    272.89        -3.41    95.8   \n",
            "1  01.01.2010 00:20:00    967.45     -2.85    272.88        -3.43    95.7   \n",
            "2  01.01.2010 00:30:00    967.45     -2.88    272.85        -3.46    95.8   \n",
            "3  01.01.2010 00:40:00    967.34     -2.90    272.84        -3.47    95.8   \n",
            "4  01.01.2010 00:50:00    967.29     -2.96    272.78        -3.53    95.8   \n",
            "\n",
            "   VPmax (mbar)  VPact (mbar)  VPdef (mbar)  sh (g/kg)  ...  max. wv (m/s)  \\\n",
            "0          4.95          4.75          0.21       3.06  ...           2.76   \n",
            "1          4.95          4.74          0.21       3.05  ...           3.10   \n",
            "2          4.94          4.73          0.21       3.05  ...           3.79   \n",
            "3          4.93          4.72          0.21       3.04  ...           3.77   \n",
            "4          4.91          4.70          0.21       3.03  ...           4.29   \n",
            "\n",
            "   wd (deg)  rain (mm)  raining (s)  SWDR (W/m�)  PAR (�mol/m�/s)  \\\n",
            "0     15.41        0.0            0          0.0              0.0   \n",
            "1     17.04        0.0            0          0.0              0.0   \n",
            "2     25.35        0.0            0          0.0              0.0   \n",
            "3     23.64        0.0          270          0.0              0.0   \n",
            "4     18.94        0.0          310          0.0              0.0   \n",
            "\n",
            "   max. PAR (�mol/m�/s)  Tlog (degC)  CO2 (ppm)  T_(degC)  \n",
            "0                   0.0         8.59      404.6     -2.84  \n",
            "1                   0.0         8.53      404.1     -2.85  \n",
            "2                   0.0         8.52      404.3     -2.88  \n",
            "3                   0.0         8.54      404.0     -2.90  \n",
            "4                   0.0         8.55      401.9     -2.96  \n",
            "\n",
            "[5 rows x 23 columns]\n",
            "<class 'pandas.core.frame.DataFrame'>\n",
            "RangeIndex: 656956 entries, 0 to 656955\n",
            "Data columns (total 23 columns):\n",
            " #   Column                Non-Null Count   Dtype  \n",
            "---  ------                --------------   -----  \n",
            " 0   Date Time             656956 non-null  object \n",
            " 1   p (mbar)              656956 non-null  float64\n",
            " 2   T (degC)              656956 non-null  float64\n",
            " 3   Tpot (K)              656956 non-null  float64\n",
            " 4   Tdew (degC)           656956 non-null  float64\n",
            " 5   rh (%)                656956 non-null  float64\n",
            " 6   VPmax (mbar)          656956 non-null  float64\n",
            " 7   VPact (mbar)          656956 non-null  float64\n",
            " 8   VPdef (mbar)          656956 non-null  float64\n",
            " 9   sh (g/kg)             656956 non-null  float64\n",
            " 10  H2OC (mmol/mol)       656956 non-null  float64\n",
            " 11  rho (g/m**3)          656956 non-null  float64\n",
            " 12  wv (m/s)              656956 non-null  float64\n",
            " 13  max. wv (m/s)         656956 non-null  float64\n",
            " 14  wd (deg)              656956 non-null  float64\n",
            " 15  rain (mm)             656956 non-null  float64\n",
            " 16  raining (s)           656956 non-null  int64  \n",
            " 17  SWDR (W/m�)           656956 non-null  float64\n",
            " 18  PAR (�mol/m�/s)       656956 non-null  float64\n",
            " 19  max. PAR (�mol/m�/s)  656956 non-null  float64\n",
            " 20  Tlog (degC)           656956 non-null  float64\n",
            " 21  CO2 (ppm)             656956 non-null  float64\n",
            " 22  T_(degC)              656956 non-null  float64\n",
            "dtypes: float64(21), int64(1), object(1)\n",
            "memory usage: 115.3+ MB\n",
            "None\n"
          ]
        }
      ]
    },
    {
      "cell_type": "code",
      "source": [],
      "metadata": {
        "id": "RDJJMxTR-xTE"
      },
      "execution_count": null,
      "outputs": []
    },
    {
      "cell_type": "markdown",
      "source": [
        "**Handling Missing Values:** Missing values are common in datasets and can arise due to various reasons such as data entry errors, equipment malfunction, or intentional omission. Decide how to handle missing values based on the context of the data and the impact of missingness on the analysis. Common strategies include:\n",
        "\n",
        "Removing rows or columns with missing values.\n",
        "Imputing missing values using statistical measures such as mean, median, or mode.\n",
        "Predictive imputation methods such as regression or k-nearest neighbors."
      ],
      "metadata": {
        "id": "9YfeVLpx-x4e"
      }
    },
    {
      "cell_type": "code",
      "source": [
        "print(\"Number of missing values per column:\")\n",
        "print(df.isnull().sum())  # Check for missing values"
      ],
      "metadata": {
        "colab": {
          "base_uri": "https://localhost:8080/"
        },
        "id": "udfN3B8b-8Gb",
        "outputId": "362ceaef-3861-4098-be6a-eb5dead2028f"
      },
      "execution_count": 31,
      "outputs": [
        {
          "output_type": "stream",
          "name": "stdout",
          "text": [
            "Number of missing values per column:\n",
            "Date Time               0\n",
            "p (mbar)                0\n",
            "T (degC)                0\n",
            "Tpot (K)                0\n",
            "Tdew (degC)             0\n",
            "rh (%)                  0\n",
            "VPmax (mbar)            0\n",
            "VPact (mbar)            0\n",
            "VPdef (mbar)            0\n",
            "sh (g/kg)               0\n",
            "H2OC (mmol/mol)         0\n",
            "rho (g/m**3)            0\n",
            "wv (m/s)                0\n",
            "max. wv (m/s)           0\n",
            "wd (deg)                0\n",
            "rain (mm)               0\n",
            "raining (s)             0\n",
            "SWDR (W/m�)             0\n",
            "PAR (�mol/m�/s)         0\n",
            "max. PAR (�mol/m�/s)    0\n",
            "Tlog (degC)             0\n",
            "CO2 (ppm)               0\n",
            "T_(degC)                0\n",
            "dtype: int64\n"
          ]
        }
      ]
    },
    {
      "cell_type": "markdown",
      "source": [
        "**Dealing with Duplicates:** Duplicates can skew analysis results and lead to biased insights. Identify and remove duplicate rows from the dataset, keeping only the unique records."
      ],
      "metadata": {
        "id": "3rC-va_H_Bt1"
      }
    },
    {
      "cell_type": "code",
      "source": [
        "print(\"Number of duplicate rows:\", df.duplicated().sum())  # Check for duplicates"
      ],
      "metadata": {
        "colab": {
          "base_uri": "https://localhost:8080/"
        },
        "id": "cvLnrV1v_Riq",
        "outputId": "627ed9c7-884a-4668-88f9-e85c6ea3c1e3"
      },
      "execution_count": 32,
      "outputs": [
        {
          "output_type": "stream",
          "name": "stdout",
          "text": [
            "Number of duplicate rows: 334\n"
          ]
        }
      ]
    },
    {
      "cell_type": "code",
      "source": [
        "# Remove duplicate rows\n",
        "df.drop_duplicates(inplace=True)"
      ],
      "metadata": {
        "id": "a9-pRNq1_aN9"
      },
      "execution_count": 33,
      "outputs": []
    },
    {
      "cell_type": "markdown",
      "source": [
        "**Correcting Data Errors:** Data errors can manifest in various forms such as spelling mistakes, incorrect formatting, or inconsistencies. Some common techniques to correct data errors include:\n",
        "\n",
        "Standardizing formats (e.g., converting text to lowercase, removing leading/trailing spaces).\n",
        "Using domain knowledge or external references to validate and correct erroneous data.\n",
        "Applying data transformation techniques (e.g., scaling, normalization) to ensure consistency across features."
      ],
      "metadata": {
        "id": "hP0yNBLN_fzR"
      }
    },
    {
      "cell_type": "markdown",
      "source": [
        "Example: Convert 'Gender' column to lowercase\n",
        "df['Gender'] = df['Gender'].str.lower()"
      ],
      "metadata": {
        "id": "EZ_-on7K_s6k"
      }
    },
    {
      "cell_type": "code",
      "source": [
        "df[\"T_(degC)\"].mean()"
      ],
      "metadata": {
        "colab": {
          "base_uri": "https://localhost:8080/"
        },
        "id": "KyEmLHGDAwXh",
        "outputId": "01970a96-2d47-4552-ceba-970a3f66e05f"
      },
      "execution_count": 38,
      "outputs": [
        {
          "output_type": "execute_result",
          "data": {
            "text/plain": [
              "9.860449314826488"
            ]
          },
          "metadata": {},
          "execution_count": 38
        }
      ]
    }
  ]
}